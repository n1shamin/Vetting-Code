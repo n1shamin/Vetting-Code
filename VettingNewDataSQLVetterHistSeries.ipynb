{
 "cells": [
  {
   "cell_type": "markdown",
   "id": "8d647ebf",
   "metadata": {},
   "source": [
    "# Vetting Between IFsHistSeries vs New Database one table at one time "
   ]
  },
  {
   "cell_type": "code",
   "execution_count": null,
   "id": "22f920b5",
   "metadata": {},
   "outputs": [],
   "source": [
    "import pandas as pd\n",
    "import numpy as np\n",
    "import sqlite3"
   ]
  },
  {
   "cell_type": "code",
   "execution_count": null,
   "id": "fdd89a0e",
   "metadata": {},
   "outputs": [],
   "source": [
    "new_conn = sqlite3.connect(r\"C:\\Users\\Norah\\Downloads\\IFsDataImport (8).db\")\n",
    "hist_conn = sqlite3.connect(r\"c:\\IFs\\DATA\\IFsHistSeries.db\")"
   ]
  },
  {
   "cell_type": "code",
   "execution_count": null,
   "id": "d14cb9d9",
   "metadata": {},
   "outputs": [],
   "source": [
    "#puller is the new data, hist is old data\n",
    "tbname = 'SeriesFreedomEcon'\n",
    "\n",
    "dt_puller = pd.read_sql_query(f\"SELECT * FROM '{tbname}'\", new_conn)\n",
    "col = dt_puller.columns[dt_puller.dtypes.eq('float64')]\n",
    "\n",
    "dt_hist = pd.read_sql_query(f\"SELECT * FROM '{tbname}'\", hist_conn)\n",
    "\n",
    "dt_hist = dt_hist.melt(id_vars= [\"Country\",\"FIPS_CODE\"],var_name=\"Year\",value_name=\"New_Value\")\n",
    "dt_puller = dt_puller.melt(id_vars= [\"Country\",\"FIPS_CODE\"],var_name=\"Year\",value_name=\"IFs_Value\")\n",
    "dt_puller = dt_puller.drop_duplicates()\n",
    "dt_hist = dt_hist.drop_duplicates()\n",
    "dt_hist = dt_hist.sort_values(by=['Country', 'FIPS_CODE', 'Year']).reset_index(drop=True)\n",
    "dt_puller = dt_puller.sort_values(by=['Country', 'FIPS_CODE', 'Year']).reset_index(drop=True)\n",
    "\n",
    "\n",
    "dt_puller.Year = dt_puller.Year.apply(pd.to_numeric, errors='coerce')\n",
    "dt_hist.Year = dt_hist.Year.apply(pd.to_numeric, errors='coerce')\n",
    "dt_puller.IFs_Value = dt_puller.IFs_Value.apply(pd.to_numeric, errors='coerce')\n",
    "dt_hist.New_Value = dt_hist.New_Value.apply(pd.to_numeric, errors='coerce')\n",
    "\n",
    "compare = dt_hist.merge(\n",
    "                       dt_puller, \n",
    "                       left_on =[\n",
    "                                 \"Country\",\n",
    "                                 \"FIPS_CODE\",\n",
    "                                 \"Year\",\n",
    "                                 ], \n",
    "                       right_on =[\n",
    "                                  \"Country\",\n",
    "                                  \"FIPS_CODE\",\n",
    "                                  \"Year\",\n",
    "                                  ],\n",
    "                       how = 'outer', \n",
    "                       )\n",
    "compare = compare[~compare[['New_Value','IFs_Value']].isna().all(axis=1)]\n",
    "compare = compare[compare['Year'] <= 2027]\n",
    "compare['check'] = abs(compare['New_Value'] - compare['IFs_Value'])/compare['IFs_Value']\n",
    "compare[((compare['check'] >= 0.15) | (compare['check'].isnull()))\n",
    "        ]\n",
    "\n",
    "compare\n",
    "\n",
    "# can check for N/A values or values above a certain threshold like 0 \n",
    "#comparech = compare[compare['check'].isna()]\n",
    "#comparech = compare[compare['check'] > 0]\n",
    "#comparech\n",
    "\n",
    "# to Excel\n",
    "#compare.to_csv('GDPcomparison2011new.csv')\n"
   ]
  },
  {
   "cell_type": "markdown",
   "id": "a74151a6",
   "metadata": {},
   "source": [
    "If you want to see full list in python itself and not export to excel"
   ]
  },
  {
   "cell_type": "code",
   "execution_count": null,
   "id": "e4e44942",
   "metadata": {},
   "outputs": [],
   "source": [
    "pd.set_option('display.max_rows', None)\n",
    "pd.set_option('display.max_columns', None)\n",
    "pd.set_option('display.width', None)\n",
    "pd.set_option('display.max_colwidth', None)\n",
    "\n",
    "compare\n"
   ]
  }
 ],
 "metadata": {
  "kernelspec": {
   "display_name": "Python 3",
   "language": "python",
   "name": "python3"
  },
  "language_info": {
   "name": "python",
   "version": "3.13.7"
  }
 },
 "nbformat": 4,
 "nbformat_minor": 5
}
