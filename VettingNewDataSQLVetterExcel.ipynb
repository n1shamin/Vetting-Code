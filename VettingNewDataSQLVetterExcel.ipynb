{
 "cells": [
  {
   "cell_type": "markdown",
   "id": "edcad4e6",
   "metadata": {},
   "source": [
    "# Vetting Sheet by Sheet; New Data is SQL, Vetter Pulled Their Own Data"
   ]
  },
  {
   "cell_type": "code",
   "execution_count": null,
   "id": "d4ed657e",
   "metadata": {},
   "outputs": [],
   "source": [
    "import pandas as pd\n",
    "import numpy as np\n",
    "import sqlite3"
   ]
  },
  {
   "cell_type": "markdown",
   "id": "aeba984a",
   "metadata": {},
   "source": [
    "Pulling Your Own Data Quickly (if you do not have your own pulled data)"
   ]
  },
  {
   "cell_type": "code",
   "execution_count": null,
   "id": "dde285de",
   "metadata": {},
   "outputs": [],
   "source": [
    "df = pd.read_excel(r\"C:\\Users\\Norah\\Downloads\\efotw-2024-master-index-data-for-researchers-iso.xlsx\", sheet_name=\"Sheet1\")\n",
    "country = pd.read_excel(r\"C:\\Users\\Norah\\Downloads\\efotw-2024-master-index-data-for-researchers-iso.xlsx\", sheet_name=\"Sheet3\")\n",
    "df = df.pivot_table(index='Countries', columns='Year', values='Value')\n",
    "dt = country.merge(df, on='Countries', how='left')\n",
    "dt = dt.drop(columns=['Countries'])\n",
    "year_columns = [col for col in dt.columns if str(col).isdigit()]\n",
    "\n",
    "dt['Earliest'] = dt[year_columns].bfill(axis=1).iloc[:, 0]\n",
    "dt['MostRecent'] = dt[year_columns].ffill(axis=1).iloc[:, -1]\n",
    "dt[year_columns + ['Earliest', 'MostRecent']] = dt[year_columns + ['Earliest', 'MostRecent']].round(4)\n",
    "\n",
    "dt"
   ]
  },
  {
   "cell_type": "code",
   "execution_count": null,
   "id": "e612145c",
   "metadata": {},
   "outputs": [],
   "source": [
    "#data pullers data\n",
    "con = sqlite3.connect(r\"C:\\Users\\Norah\\Downloads\\IFsDataImport (8).db\")\n",
    "sql_query = \"\"\"SELECT name FROM sqlite_master  \n",
    "  WHERE type='table';\"\"\"\n",
    "cursor = con.cursor()\n",
    "\n",
    "cursor.execute(sql_query)"
   ]
  },
  {
   "cell_type": "code",
   "execution_count": null,
   "id": "c94a326b",
   "metadata": {},
   "outputs": [],
   "source": [
    "tbname = 'SeriesFreedomEcon'\n",
    "\n",
    "dt_puller = pd.read_sql_query(f\"SELECT * FROM '{tbname}'\", con)\n",
    "col = dt_puller.columns[dt_puller.dtypes.eq('float64')]\n",
    "\n",
    "#you can change between an excel if you already have one or if you use the above code to create a new one use dt \n",
    "\n",
    "#dt = pd.read_excel(r'C:\\Users\\Norah\\OneDrive\\Documents\\ilogender.xlsx',sheet_name='Utlities_Male')\n",
    "dt_vetter = dt.melt(id_vars= [\"Country\",\"FIPS_CODE\"],var_name=\"Year\",value_name=\"Vetter_Value\")\n",
    "\n",
    "dt_puller = dt_puller.melt(id_vars= [\"Country\",\"FIPS_CODE\"],var_name=\"Year\",value_name=\"Puller_Value\")\n",
    "\n",
    "dt_vetter = dt_vetter.sort_values(by=['Country', 'FIPS_CODE', 'Year']).reset_index(drop=True)\n",
    "dt_puller = dt_puller.sort_values(by=['Country', 'FIPS_CODE', 'Year']).reset_index(drop=True)\n",
    "\n",
    "\n",
    "dt_puller.Year = dt_puller.Year.apply(pd.to_numeric, errors='coerce')\n",
    "dt_vetter.Year = dt_vetter.Year.apply(pd.to_numeric, errors='coerce')\n",
    "dt_puller.Puller_Value = dt_puller.Puller_Value.apply(pd.to_numeric, errors='coerce')\n",
    "dt_vetter.Vetter_Value = dt_vetter.Vetter_Value.apply(pd.to_numeric, errors='coerce')\n",
    "\n",
    "compare = dt_vetter.merge(\n",
    "                       dt_puller, \n",
    "                       left_on =[\n",
    "                                 \"Country\",\n",
    "                                 \"FIPS_CODE\",\n",
    "                                 \"Year\",\n",
    "                                 ], \n",
    "                       right_on =[\n",
    "                                  \"Country\",\n",
    "                                  \"FIPS_CODE\",\n",
    "                                  \"Year\",\n",
    "                                  ],\n",
    "                       how = 'outer', \n",
    "                       )\n",
    "compare = compare[~compare[['Puller_Value','Vetter_Value']].isna().all(axis=1)]\n",
    "compare = compare[compare['Year'] <= 2027]\n",
    "compare['check'] = abs(compare['Puller_Value'] - compare['Vetter_Value'])/compare['Vetter_Value']\n",
    "compare[((compare['check'] >= 0.15) | (compare['check'].isnull()))\n",
    "        ]\n",
    "compare\n",
    "\n",
    "# can check for N/A values or values above a certain threshold like 0 \n",
    "#comparech = compare[compare['check'].isna()]\n",
    "#comparech = compare[compare['check'] > 0]\n",
    "#comparech\n",
    "\n",
    "# to Excel\n",
    "#compare.to_csv('GDPcomparison2011new.csv')"
   ]
  },
  {
   "cell_type": "markdown",
   "id": "7512b61b",
   "metadata": {},
   "source": [
    "If you want to see full list in python itself and not export to excel"
   ]
  },
  {
   "cell_type": "code",
   "execution_count": null,
   "id": "d79462c6",
   "metadata": {},
   "outputs": [],
   "source": [
    "pd.set_option('display.max_rows', None)\n",
    "pd.set_option('display.max_columns', None)\n",
    "pd.set_option('display.width', None)\n",
    "pd.set_option('display.max_colwidth', None)\n",
    "\n",
    "compare"
   ]
  }
 ],
 "metadata": {
  "kernelspec": {
   "display_name": "Python 3",
   "language": "python",
   "name": "python3"
  },
  "language_info": {
   "name": "python",
   "version": "3.13.7"
  }
 },
 "nbformat": 4,
 "nbformat_minor": 5
}
